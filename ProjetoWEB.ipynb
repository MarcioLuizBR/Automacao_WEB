{
 "cells": [
  {
   "cell_type": "markdown",
   "metadata": {},
   "source": [
    "# Inicialização do Navegador"
   ]
  },
  {
   "cell_type": "code",
   "execution_count": 5,
   "metadata": {},
   "outputs": [],
   "source": [
    "# criar um navegador\n",
    "from selenium import webdriver\n",
    "from selenium.webdriver.common.keys import Keys\n",
    "import pandas as pd\n",
    "import time\n",
    "import pprint\n",
    "\n",
    "\n",
    "nav = webdriver.Chrome()"
   ]
  },
  {
   "cell_type": "markdown",
   "metadata": {},
   "source": [
    "## Definição das funçoes de busca do Google Shopping e do Buscapé"
   ]
  },
  {
   "cell_type": "code",
   "execution_count": 13,
   "metadata": {},
   "outputs": [],
   "source": [
    "def verificar_tem_termos_banidos(lista_termos_banidos, nome):\n",
    "    tem_termos_banidos = False\n",
    "    for palavra in lista_termos_banidos:\n",
    "        if palavra in nome:\n",
    "            tem_termos_banidos = True\n",
    "    return tem_termos_banidos\n",
    "\n",
    "def verificar_tem_todos_termos_produto(lista_termos_nome_produto, nome):\n",
    "    tem_todos_termos_produtos = True\n",
    "    for palavra in lista_termos_nome_produto:\n",
    "        if palavra not in nome:\n",
    "            tem_todos_termos_produtos = False\n",
    "    return tem_todos_termos_produtos\n",
    "\n",
    "def busca_google_shopping(nav, produto, termos_banidos, preco_minimo, preco_maximo):\n",
    "    produto = produto.lower()\n",
    "    termos_banidos = termos_banidos.lower()\n",
    "    lista_termos_nome_produto = produto.split(\" \")\n",
    "    lista_termos_banidos = termos_banidos.split(\" \")\n",
    "    lista_resultados = []\n",
    "    preco_minimo = float(preco_minimo)\n",
    "    preco_maximo = float(preco_maximo)\n",
    "\n",
    "    # entrar no google\n",
    "    nav.get(\"https://www.google.com.br/\")\n",
    "    nav.find_element('xpath', '//*[@id=\"APjFqb\"]').send_keys(produto, Keys.ENTER)\n",
    "    # opção de busca por \"class name\"\n",
    "    time.sleep(2)\n",
    "    # entrar na aba shopping\n",
    "    elementos = nav.find_elements(\"class name\", \"YmvwI\")\n",
    "\n",
    "\n",
    "    time.sleep(2)\n",
    "\n",
    "    for item in elementos:\n",
    "        if \"Shopping\" in item.text:\n",
    "            item.click()\n",
    "            break\n",
    "\n",
    "    # pegar as informações do produto\n",
    "    resultado_pesquisa = nav.find_elements('class name', 'i0X6df')\n",
    "\n",
    "    for resultado in resultado_pesquisa:\n",
    "        nome = resultado.find_element('class name', 'tAxDx').text\n",
    "        nome = nome.lower()\n",
    "        \n",
    "        # analizar se o produto tem algum termo banido\n",
    "        tem_termos_banidos = verificar_tem_termos_banidos(lista_termos_banidos, nome)\n",
    "                \n",
    "        # analizar se o produto contem TODOS os termos do nome do produto\n",
    "        tem_todos_termos_produtos = verificar_tem_todos_termos_produto(lista_termos_nome_produto, nome)\n",
    "        \n",
    "        \n",
    "        # filtro do valor\n",
    "        if not tem_termos_banidos and tem_todos_termos_produtos:\n",
    "            preco = resultado.find_element('class name', 'a8Pemb').text\n",
    "            preco = preco.replace(\"R$\", \"\").replace(\" \", \"\").replace(\".\", \"\").replace(\",\", \".\").replace(\"+\", \"\").replace(\"impostos\", \"\")\n",
    "            preco = float(preco)\n",
    "                        \n",
    "            if preco_minimo<= preco <= preco_maximo:\n",
    "                elemento_referencia = resultado.find_element('class name', 'bONr3b')\n",
    "                elemento_pai = elemento_referencia.find_element('xpath', '..')\n",
    "                link = elemento_pai.get_attribute('href')\n",
    "                lista_resultados.append((nome, preco, link))\n",
    "    return lista_resultados\n",
    "\n",
    "def busca_buscape(nav, produto, termos_banidos, preco_minimo, preco_maximo):\n",
    "    produto = produto.lower()\n",
    "    termos_banidos = termos_banidos.lower()\n",
    "    lista_termos_nome_produto = produto.split(\" \")\n",
    "    lista_termos_banidos = termos_banidos.split(\" \")\n",
    "    lista_resultado = []\n",
    "    preco_minimo = float(preco_minimo)\n",
    "    preco_maximo = float(preco_maximo)\n",
    "    \n",
    "    nav.get(\"https://www.buscape.com.br/\")\n",
    "    nav.find_element('xpath', '//*[@id=\"new-header\"]/div[1]/div/div/div[3]/div/div/div[2]/div/div[1]/input').send_keys(produto, Keys.ENTER)\n",
    "    \n",
    "    # pegar os resultados\n",
    "    time.sleep(5)\n",
    "    resultado_pesquisa = nav.find_elements('class name', 'ProductCard_ProductCard_Inner__gapsh')\n",
    "    \n",
    "    for resultado in resultado_pesquisa:\n",
    "        preco = resultado.find_element('class name', 'Text_MobileHeadingS__HEz7L').text\n",
    "        nome = resultado.find_element('class name', 'ProductCard_ProductCard_Name__U_mUQ').text\n",
    "        nome = nome.lower()\n",
    "        link = resultado.get_attribute(\"href\")\n",
    "        \n",
    "        # analizar se o produto tem algum termo banido\n",
    "        tem_termos_banidos = verificar_tem_termos_banidos(lista_termos_banidos, nome)\n",
    "       \n",
    "        # analizar se o produto contem TODOS os termos do nome do produto\n",
    "        tem_todos_termos_produtos = verificar_tem_todos_termos_produto(lista_termos_nome_produto, nome)\n",
    "        \n",
    "        # analisar a lista de ofertas \n",
    "        if not tem_termos_banidos and tem_todos_termos_produtos:\n",
    "            preco = preco.replace(\"R$\", \"\").replace(\" \", \"\").replace(\".\", \"\").replace(\",\", \".\").replace(\"+\", \"\").replace(\"impostos\", \"\")\n",
    "            preco = float(preco)\n",
    "            if preco_minimo <= preco <= preco_maximo:\n",
    "                lista_resultado.append((nome, preco, link))\n",
    "                \n",
    "    return lista_resultado\n",
    "        \n",
    "    \n",
    "       "
   ]
  },
  {
   "cell_type": "markdown",
   "metadata": {},
   "source": [
    "### Importar os dados do excel"
   ]
  },
  {
   "cell_type": "code",
   "execution_count": 14,
   "metadata": {},
   "outputs": [
    {
     "data": {
      "text/html": [
       "<div>\n",
       "<style scoped>\n",
       "    .dataframe tbody tr th:only-of-type {\n",
       "        vertical-align: middle;\n",
       "    }\n",
       "\n",
       "    .dataframe tbody tr th {\n",
       "        vertical-align: top;\n",
       "    }\n",
       "\n",
       "    .dataframe thead th {\n",
       "        text-align: right;\n",
       "    }\n",
       "</style>\n",
       "<table border=\"1\" class=\"dataframe\">\n",
       "  <thead>\n",
       "    <tr style=\"text-align: right;\">\n",
       "      <th></th>\n",
       "      <th>Nome</th>\n",
       "      <th>Termos banidos</th>\n",
       "      <th>Preço mínimo</th>\n",
       "      <th>Preço máximo</th>\n",
       "    </tr>\n",
       "  </thead>\n",
       "  <tbody>\n",
       "    <tr>\n",
       "      <th>0</th>\n",
       "      <td>iphone 12 64 gb</td>\n",
       "      <td>mini watch</td>\n",
       "      <td>2000</td>\n",
       "      <td>3500</td>\n",
       "    </tr>\n",
       "    <tr>\n",
       "      <th>1</th>\n",
       "      <td>rtx 3060</td>\n",
       "      <td>zota galax</td>\n",
       "      <td>3500</td>\n",
       "      <td>4500</td>\n",
       "    </tr>\n",
       "  </tbody>\n",
       "</table>\n",
       "</div>"
      ],
      "text/plain": [
       "              Nome Termos banidos  Preço mínimo  Preço máximo\n",
       "0  iphone 12 64 gb     mini watch          2000          3500\n",
       "1         rtx 3060     zota galax          3500          4500"
      ]
     },
     "metadata": {},
     "output_type": "display_data"
    }
   ],
   "source": [
    "# importar/ visualizar a base de dados\n",
    "tabela_produtos = pd.read_excel(\"buscas.xlsx\")\n",
    "display(tabela_produtos)"
   ]
  },
  {
   "cell_type": "markdown",
   "metadata": {},
   "source": [
    "### Construindo a nossa lista de ofertas"
   ]
  },
  {
   "cell_type": "code",
   "execution_count": null,
   "metadata": {},
   "outputs": [],
   "source": [
    "# salvar as ofertas boas em um dataframe (tabela)\n",
    "tabela_ofertas = pd.DataFrame()\n",
    "\n",
    "for linha in tabela_produtos.index:\n",
    "\n",
    "    # pesquizar pelo produto\n",
    "    produto = tabela_produtos.loc[linha, \"Nome\"]\n",
    "    termos_banidos = tabela_produtos.loc[linha, \"Termos banidos\"]\n",
    "    preco_minimo = tabela_produtos.loc[linha, \"Preço mínimo\"]\n",
    "    preco_maximo = tabela_produtos.loc[linha, \"Preço máximo\"]\n",
    "    \n",
    "    Lista_ofertas_google_shopping = busca_google_shopping(nav, produto, termos_banidos, preco_minimo, preco_maximo)\n",
    "    if Lista_ofertas_google_shopping:\n",
    "        tabel_google_shopping = pd.DataFrame(Lista_ofertas_google_shopping, columns=['produto', 'preco', 'link'])\n",
    "        tabela_ofertas = pd.concat([tabela_ofertas, tabel_google_shopping])\n",
    "    else:\n",
    "        tabel_google_shopping = None\n",
    "        \n",
    "    lista_ofertas_buscape = busca_buscape(nav, produto, termos_banidos, preco_minimo, preco_maximo)\n",
    "    if lista_ofertas_buscape:\n",
    "        tabela_buscape = pd.DataFrame(lista_ofertas_buscape, columns=['produto', 'preco', 'link'])\n",
    "        tabela_ofertas = pd.concat([tabela_ofertas, tabela_buscape])\n",
    "    else:\n",
    "        tabela_buscape = None\n",
    "\n",
    "nav.quit\n",
    "  \n",
    "display(tabela_ofertas)\n",
    "\n"
   ]
  },
  {
   "cell_type": "markdown",
   "metadata": {},
   "source": [
    "### Exportando para o Excel"
   ]
  },
  {
   "cell_type": "code",
   "execution_count": 16,
   "metadata": {},
   "outputs": [],
   "source": [
    "# exportar pro excel\n",
    "tabela_ofertas.to_excel(\"Ofertas.xlsx\", index=False)"
   ]
  },
  {
   "cell_type": "markdown",
   "metadata": {},
   "source": [
    "### Enviando para o E-mail"
   ]
  },
  {
   "cell_type": "code",
   "execution_count": null,
   "metadata": {},
   "outputs": [],
   "source": [
    "# enviar por email o resultado da tabela / opção de envio Outlook\n",
    "\n",
    "import win32com.client as win32\n",
    "\n",
    "def send_email_with_attachment(to_address, subject, body):\n",
    "    # Criar uma instância do Outlook\n",
    "    outlook = win32.Dispatch('outlook.application')\n",
    "    \n",
    "    # Criar um novo e-mail\n",
    "    mail = outlook.CreateItem(0)\n",
    "    \n",
    "    # Definir os parâmetros do e-mail\n",
    "    mail.To = to_address\n",
    "    mail.Subject = subject\n",
    "    mail.Body = body\n",
    "    \n",
    "    # Enviar o e-mail\n",
    "    mail.Send()\n",
    "\n",
    "# Exemplo de uso\n",
    "to_address = 'destinatario@exemplo.com'\n",
    "subject = 'Assunto do Email'\n",
    "body = f\"\"\"\n",
    "<p>Prezados, </p>\n",
    "\n",
    "<p>Encontramos alguns produtos em oferta dentro da faixa de preço desejada </p>\n",
    "{tabela_ofertas.to_html(index=False)}\n",
    "<p>Att., </p>\n",
    "<p>Marcio Luiz </p>\n",
    "\"\"\"\n",
    "\n",
    "\n",
    "if len(tabela_ofertas) > 0:\n",
    "    send_email_with_attachment(to_address, subject, body)\n",
    "\n",
    "\n",
    "# se necessario anexar algum arquivo, alterar codigo com attachment_path\n",
    "\n"
   ]
  }
 ],
 "metadata": {
  "kernelspec": {
   "display_name": "Python 3",
   "language": "python",
   "name": "python3"
  },
  "language_info": {
   "codemirror_mode": {
    "name": "ipython",
    "version": 3
   },
   "file_extension": ".py",
   "mimetype": "text/x-python",
   "name": "python",
   "nbconvert_exporter": "python",
   "pygments_lexer": "ipython3",
   "version": "3.12.1"
  }
 },
 "nbformat": 4,
 "nbformat_minor": 2
}
