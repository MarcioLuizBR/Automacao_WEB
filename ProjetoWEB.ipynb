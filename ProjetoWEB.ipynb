{
 "cells": [
  {
   "cell_type": "code",
   "execution_count": null,
   "metadata": {},
   "outputs": [],
   "source": [
    "#! pip install selenium --upgrade"
   ]
  },
  {
   "cell_type": "code",
   "execution_count": 40,
   "metadata": {},
   "outputs": [],
   "source": [
    "# criar um navegador\n",
    "from selenium import webdriver\n",
    "from selenium.webdriver.common.keys import Keys\n",
    "import pandas as pd\n",
    "import time\n",
    "import pprint\n",
    "\n",
    "\n",
    "nav = webdriver.Chrome()"
   ]
  },
  {
   "cell_type": "code",
   "execution_count": null,
   "metadata": {},
   "outputs": [],
   "source": [
    "# importar/ visualizar a base de dados\n",
    "tabela_produtos = pd.read_excel(\"buscas.xlsx\")\n",
    "display(tabela_produtos)"
   ]
  },
  {
   "cell_type": "code",
   "execution_count": 41,
   "metadata": {},
   "outputs": [],
   "source": [
    "# entrar no google\n",
    "nav.get(\"https://www.google.com.br/\")\n",
    "\n",
    "# pesquizar pelo produto\n",
    "produto = 'iphone 12 64gb'\n",
    "nav.find_element('xpath', '//*[@id=\"APjFqb\"]').send_keys(produto, Keys.ENTER)\n",
    "time.sleep(2)\n",
    "nav.find_element('xpath', '//*[@id=\"hdtb-sc\"]/div/div/div[1]/div/div[2]/a/div').click()\n",
    "\n",
    "    # opção de busca por \"class name\"\n",
    "        # time.sleep(3)\n",
    "        # # entrar na aba shopping\n",
    "        # elementos = nav.find_elements(\"class name\", \"crJ18e\")\n",
    "\n",
    "\n",
    "        # time.sleep(2)\n",
    "\n",
    "        # for item in elementos:\n",
    "        #     print(item.text)\n",
    "        #     if \"Shopping\" in item.text:\n",
    "        #         item.click()\n",
    "        #         break\n",
    "        #     else:\n",
    "        #         print(\"Elemento não encontrado\")\n",
    "\n",
    "\n",
    "# pegar as informalções do produto\n",
    "\n",
    "\n",
    "\n",
    "# para cada item dentro da nossa base de dados, para cada produto\n",
    "\n",
    "    # procurar esse produto no google shooping\n",
    "        # verificar se algum dos produtos do google shooping está dentro da minha faixa de preço\n",
    "    \n",
    "    #procurar esse produto no buscapé\n",
    "        # verificar se algum dos produtos do buscapé está dentro da minha faixa de preço\n",
    "        \n",
    "# salvar as ofertas boas em um dataframe (tabela)\n",
    "\n",
    "# exportar pro excel\n",
    "\n",
    "# enviar por email o resultado da tabela"
   ]
  }
 ],
 "metadata": {
  "kernelspec": {
   "display_name": "Python 3",
   "language": "python",
   "name": "python3"
  },
  "language_info": {
   "codemirror_mode": {
    "name": "ipython",
    "version": 3
   },
   "file_extension": ".py",
   "mimetype": "text/x-python",
   "name": "python",
   "nbconvert_exporter": "python",
   "pygments_lexer": "ipython3",
   "version": "3.12.1"
  }
 },
 "nbformat": 4,
 "nbformat_minor": 2
}
